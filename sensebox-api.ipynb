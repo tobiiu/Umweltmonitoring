{
 "cells": [
  {
   "cell_type": "code",
   "execution_count": 13,
   "id": "105a44e6",
   "metadata": {},
   "outputs": [],
   "source": [
    "import folium\n",
    "from folium.plugins import MarkerCluster\n",
    "from datetime import datetime\n",
    "import matplotlib.pyplot as plt\n",
    "import matplotlib.cm as cm\n",
    "import matplotlib.colors as colors\n",
    "\n",
    "import folium\n",
    "from folium.plugins import MarkerCluster\n",
    "from datetime import datetime\n",
    "import matplotlib.pyplot as plt\n",
    "import matplotlib.cm as cm\n",
    "import matplotlib.colors as colors\n",
    "import requests\n",
    "\n",
    "\n",
    "sensebox_id = \"67cac102d2a4eb00071d6ac9\""
   ]
  },
  {
   "cell_type": "code",
   "execution_count": null,
   "id": "aff51a23",
   "metadata": {},
   "outputs": [
    {
     "data": {
      "text/plain": [
       "[('2025-03-07T09:48:50.961Z', [104.994063, 77.585865, 2e+31]),\n",
       " ('2025-03-07T09:49:38.430Z', [104.994063, 77.585865, 0])]"
      ]
     },
     "execution_count": 14,
     "metadata": {},
     "output_type": "execute_result"
    }
   ],
   "source": [
    "def get_all_locations(sensebox_id):\n",
    "    url = f\"https://api.opensensemap.org/boxes/{sensebox_id}/locations\"\n",
    "    params = {\n",
    "        \"from-date\": \"2015-01-01T00:00:00Z\",\n",
    "        \"format\": \"json\"\n",
    "    }\n",
    "\n",
    "    response = requests.get(url, params=params)\n",
    "\n",
    "    if response.status_code != 200:\n",
    "        raise Exception(f\"Fehler beim Abrufen der Daten: {response.status_code}\")\n",
    "\n",
    "    data = response.json()\n",
    "\n",
    "    locations = []\n",
    "    for entry in data:\n",
    "        timestamp = entry.get(\"timestamp\")\n",
    "        coordinates = entry.get(\"coordinates\")\n",
    "        if timestamp and coordinates:\n",
    "            locations.append((timestamp, coordinates))\n",
    "\n",
    "    return locations\n",
    "\n",
    "orte = get_all_locations(sensebox_id)"
   ]
  },
  {
   "cell_type": "code",
   "execution_count": 38,
   "id": "13ac315d",
   "metadata": {},
   "outputs": [
    {
     "name": "stderr",
     "output_type": "stream",
     "text": [
      "C:\\Users\\tobia\\AppData\\Local\\Temp\\ipykernel_10368\\1465362382.py:12: MatplotlibDeprecationWarning: The get_cmap function was deprecated in Matplotlib 3.7 and will be removed in 3.11. Use ``matplotlib.colormaps[name]`` or ``matplotlib.colormaps.get_cmap()`` or ``pyplot.get_cmap()`` instead.\n",
      "  colormap = cm.get_cmap(\"plasma\")\n"
     ]
    }
   ],
   "source": [
    "def show_colored_map(locations):\n",
    "    if not locations:\n",
    "        print(\"Keine Koordinaten vorhanden.\")\n",
    "        return\n",
    "\n",
    "    # Sortieren nach Zeit\n",
    "    locations_sorted = sorted(locations, key=lambda x: x[0])\n",
    "    timestamps = [datetime.fromisoformat(t[0].replace(\"Z\", \"+00:00\")) for t in locations_sorted]\n",
    "\n",
    "    # Farbskala vorbereiten\n",
    "    norm = colors.Normalize(vmin=0, vmax=len(timestamps) - 1)\n",
    "    colormap = cm.get_cmap(\"plasma\")\n",
    "    colors_hex = [colors.to_hex(colormap(norm(i))) for i in range(len(timestamps))]\n",
    "\n",
    "    # Karte auf ersten Punkt zentrieren\n",
    "    first_coord = locations_sorted[0][1]\n",
    "    lat = first_coord[1]\n",
    "    lon = first_coord[0]\n",
    "    fmap = folium.Map(location=[lat, lon], zoom_start=4)\n",
    "    marker_cluster = MarkerCluster().add_to(fmap)\n",
    "\n",
    "    # Marker hinzufügen\n",
    "    for (timestamp, coord), color in zip(locations_sorted, colors_hex):\n",
    "        lon = coord[0]\n",
    "        lat = coord[1]\n",
    "        alt = coord[2] if len(coord) > 2 else None\n",
    "        popup_text = f\"{timestamp}\"\n",
    "        if alt is not None:\n",
    "            popup_text += f\"<br>Höhe: {alt:.2f} m\"\n",
    "\n",
    "        folium.CircleMarker(\n",
    "            location=[lat, lon],\n",
    "            radius=6,\n",
    "            popup=popup_text,\n",
    "            color=color,\n",
    "            fill=True,\n",
    "            fill_color=color\n",
    "        ).add_to(marker_cluster)\n",
    "\n",
    "    return fmap  # ← Jupyter zeigt dies automatisch\n",
    "\n",
    "map = show_colored_map(orte)"
   ]
  }
 ],
 "metadata": {
  "kernelspec": {
   "display_name": "1",
   "language": "python",
   "name": "python3"
  },
  "language_info": {
   "codemirror_mode": {
    "name": "ipython",
    "version": 3
   },
   "file_extension": ".py",
   "mimetype": "text/x-python",
   "name": "python",
   "nbconvert_exporter": "python",
   "pygments_lexer": "ipython3",
   "version": "3.12.4"
  }
 },
 "nbformat": 4,
 "nbformat_minor": 5
}
