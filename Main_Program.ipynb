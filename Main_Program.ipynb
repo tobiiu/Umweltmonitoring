{
 "cells": [
  {
   "cell_type": "code",
   "execution_count": 1,
   "id": "3e21a8fc",
   "metadata": {},
   "outputs": [],
   "source": [
    "import pandas, numpy, matplotlib, plotly, seaborn, dash, random, math, \\\n",
    "        sklearn, requests"
   ]
  },
  {
   "cell_type": "markdown",
   "id": "32fa8ff4",
   "metadata": {},
   "source": [
    "## 1. ETL"
   ]
  },
  {
   "cell_type": "markdown",
   "id": "4c8e8631",
   "metadata": {},
   "source": [
    "### 1.1 Data Extraction"
   ]
  },
  {
   "cell_type": "code",
   "execution_count": 2,
   "id": "1d3ded2a",
   "metadata": {},
   "outputs": [],
   "source": [
    "import functions \n",
    "\n",
    "ip  = functions.get_sensbox_ip()\n",
    "\n",
    "sense_box_raw_data = functions.scrape_sense_box_data(ip)\n"
   ]
  },
  {
   "cell_type": "markdown",
   "id": "887e3460",
   "metadata": {},
   "source": [
    "### 1.2 Data Transform"
   ]
  },
  {
   "cell_type": "code",
   "execution_count": 3,
   "id": "e133b0c6",
   "metadata": {},
   "outputs": [],
   "source": [
    "\n",
    "transformed_data = functions.transform_sense_box_data(sense_box_raw_data)\n"
   ]
  },
  {
   "cell_type": "markdown",
   "id": "5da606d2",
   "metadata": {},
   "source": [
    "### 1.3 Data Load"
   ]
  },
  {
   "cell_type": "code",
   "execution_count": 4,
   "id": "b178d686",
   "metadata": {},
   "outputs": [],
   "source": [
    "\n",
    "functions.store_data(transformed_data)\n",
    "\n",
    "all_data = functions.all_Data()\n",
    "df = all_data\n"
   ]
  },
  {
   "cell_type": "markdown",
   "id": "5b826630",
   "metadata": {},
   "source": [
    "## 2. Data Analysing"
   ]
  },
  {
   "cell_type": "code",
   "execution_count": 5,
   "id": "c07b841f",
   "metadata": {},
   "outputs": [
    {
     "name": "stdout",
     "output_type": "stream",
     "text": [
      "plotting...\n",
      "No valid column provided for plotting\n"
     ]
    }
   ],
   "source": [
    "\n",
    "functions.plot_data(data = df, column=\"temperature\")\n",
    "\n"
   ]
  },
  {
   "cell_type": "markdown",
   "id": "6b3971e4",
   "metadata": {},
   "source": [
    "## 3. Forecasting"
   ]
  },
  {
   "cell_type": "markdown",
   "id": "80a503c7",
   "metadata": {},
   "source": [
    "### 3.1 Feature Engineering"
   ]
  },
  {
   "cell_type": "code",
   "execution_count": 6,
   "id": "7986e611",
   "metadata": {},
   "outputs": [
    {
     "name": "stdout",
     "output_type": "stream",
     "text": [
      "Generate new columns from the old...\n"
     ]
    }
   ],
   "source": [
    "print(\"Generate new columns from the old...\")"
   ]
  },
  {
   "cell_type": "markdown",
   "id": "6e9ba897",
   "metadata": {},
   "source": [
    "### 3.2 Modeling"
   ]
  },
  {
   "cell_type": "code",
   "execution_count": 7,
   "id": "cc146c7b",
   "metadata": {},
   "outputs": [
    {
     "name": "stdout",
     "output_type": "stream",
     "text": [
      "Building model with scikitlearn...\n"
     ]
    }
   ],
   "source": [
    "print(\"Building model with scikitlearn...\")"
   ]
  },
  {
   "cell_type": "markdown",
   "id": "44279c1c",
   "metadata": {},
   "source": [
    "## 4. Dashboard"
   ]
  },
  {
   "cell_type": "code",
   "execution_count": 8,
   "id": "557970dd",
   "metadata": {},
   "outputs": [
    {
     "name": "stdout",
     "output_type": "stream",
     "text": [
      "creating dashboard with Dash...\n"
     ]
    }
   ],
   "source": [
    "print(\"creating dashboard with Dash...\")"
   ]
  }
 ],
 "metadata": {
  "kernelspec": {
   "display_name": "Python 3",
   "language": "python",
   "name": "python3"
  },
  "language_info": {
   "codemirror_mode": {
    "name": "ipython",
    "version": 3
   },
   "file_extension": ".py",
   "mimetype": "text/x-python",
   "name": "python",
   "nbconvert_exporter": "python",
   "pygments_lexer": "ipython3",
   "version": "3.12.4"
  }
 },
 "nbformat": 4,
 "nbformat_minor": 5
}
