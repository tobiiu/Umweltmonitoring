{
 "cells": [
  {
   "cell_type": "code",
   "execution_count": 1,
   "id": "3e21a8fc",
   "metadata": {},
   "outputs": [],
   "source": [
    "import pandas, numpy, matplotlib, plotly, seaborn, dash, random, math, \\\n",
    "        sklearn, requests"
   ]
  },
  {
   "cell_type": "markdown",
   "id": "4c8e8631",
   "metadata": {},
   "source": [
    "## Data Extraction"
   ]
  },
  {
   "cell_type": "code",
   "execution_count": null,
   "id": "1d3ded2a",
   "metadata": {},
   "outputs": [
    {
     "name": "stdout",
     "output_type": "stream",
     "text": [
      "plotting column X\n"
     ]
    }
   ],
   "source": [
    "import functions \n",
    "\n",
    "sense_box_ip  = functions.get_sensbox_ip()\n",
    "\n",
    "sense_box_data_data = functions.scrape_sense_box_data(sense_box_ip)\n"
   ]
  },
  {
   "cell_type": "markdown",
   "id": "887e3460",
   "metadata": {},
   "source": [
    "## Data Transform"
   ]
  },
  {
   "cell_type": "code",
   "execution_count": 3,
   "id": "e133b0c6",
   "metadata": {},
   "outputs": [],
   "source": [
    "\n",
    "transform_data = functions.transform_sense_box_data(sense_box_data_data)\n"
   ]
  },
  {
   "cell_type": "markdown",
   "id": "5da606d2",
   "metadata": {},
   "source": [
    "## Data Load"
   ]
  },
  {
   "cell_type": "code",
   "execution_count": null,
   "id": "b178d686",
   "metadata": {},
   "outputs": [],
   "source": [
    "\n",
    "functions.store_data(transform_data)\n",
    "\n",
    "all_data = functions.all_Data()\n",
    "\n"
   ]
  },
  {
   "cell_type": "markdown",
   "id": "5b826630",
   "metadata": {},
   "source": [
    "## Data Analysing"
   ]
  },
  {
   "cell_type": "code",
   "execution_count": null,
   "id": "c07b841f",
   "metadata": {},
   "outputs": [],
   "source": [
    "\n",
    "functions.plot_data(data = all_data, column= None)\n",
    "\n"
   ]
  },
  {
   "cell_type": "markdown",
   "id": "6b3971e4",
   "metadata": {},
   "source": [
    "## Forecasting"
   ]
  },
  {
   "cell_type": "markdown",
   "id": "80a503c7",
   "metadata": {},
   "source": [
    "### Feature Engineering"
   ]
  },
  {
   "cell_type": "code",
   "execution_count": 6,
   "id": "7986e611",
   "metadata": {},
   "outputs": [
    {
     "name": "stdout",
     "output_type": "stream",
     "text": [
      "Generate new columns from the old...\n"
     ]
    }
   ],
   "source": [
    "print(\"Generate new columns from the old...\")"
   ]
  },
  {
   "cell_type": "markdown",
   "id": "6e9ba897",
   "metadata": {},
   "source": [
    "### Modeling"
   ]
  },
  {
   "cell_type": "code",
   "execution_count": 5,
   "id": "cc146c7b",
   "metadata": {},
   "outputs": [
    {
     "name": "stdout",
     "output_type": "stream",
     "text": [
      "Building model with scikitlearn...\n"
     ]
    }
   ],
   "source": [
    "print(\"Building model with scikitlearn...\")"
   ]
  },
  {
   "cell_type": "markdown",
   "id": "44279c1c",
   "metadata": {},
   "source": [
    "## Dashboard"
   ]
  },
  {
   "cell_type": "code",
   "execution_count": 4,
   "id": "557970dd",
   "metadata": {},
   "outputs": [
    {
     "name": "stdout",
     "output_type": "stream",
     "text": [
      "creating dashboard with Dash...\n"
     ]
    }
   ],
   "source": [
    "print(\"creating dashboard with Dash...\")"
   ]
  }
 ],
 "metadata": {
  "kernelspec": {
   "display_name": "Python 3",
   "language": "python",
   "name": "python3"
  },
  "language_info": {
   "codemirror_mode": {
    "name": "ipython",
    "version": 3
   },
   "file_extension": ".py",
   "mimetype": "text/x-python",
   "name": "python",
   "nbconvert_exporter": "python",
   "pygments_lexer": "ipython3",
   "version": "3.12.4"
  }
 },
 "nbformat": 4,
 "nbformat_minor": 5
}
