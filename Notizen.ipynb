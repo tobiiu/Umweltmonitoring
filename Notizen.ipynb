{
 "cells": [
  {
   "cell_type": "markdown",
   "id": "d5d7deb4",
   "metadata": {
    "vscode": {
     "languageId": "plaintext"
    }
   },
   "source": [
    "GITHUB-Link:\n",
    "https://github.com/tobiiu/Umweltmonitoring.git"
   ]
  },
  {
   "cell_type": "markdown",
   "id": "e5ce7746",
   "metadata": {},
   "source": [
    "# Notizen\n",
    "\n",
    "\n",
    "\n",
    "Aufgaben\n",
    "- alles\n",
    "\n",
    "- SenseBox Api\n",
    "- Daten in Datenbank überführen\n",
    "- Daten analysieren\n",
    "- Daten vorhersagen mit Machine Learning Model\n",
    "- Dashboard erstellen\n",
    "- Daten an DAshboard weiterleiten\n",
    "- Dashboard live-fähig machen\n",
    " \n",
    "\n",
    "\n",
    "\n",
    "Kategorien:\n",
    "1. Architektur\n",
    "\n",
    "2. Machine Learning\n",
    "\n",
    "3. Benutzerfreundlicheit\n",
    "\n",
    "4. Code-Dokumentation\n",
    "\n"
   ]
  }
 ],
 "metadata": {
  "language_info": {
   "name": "python"
  }
 },
 "nbformat": 4,
 "nbformat_minor": 5
}
