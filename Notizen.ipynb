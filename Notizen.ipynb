{
 "cells": [
  {
   "cell_type": "markdown",
   "id": "d5d7deb4",
   "metadata": {
    "vscode": {
     "languageId": "plaintext"
    }
   },
   "source": [
    "GITHUB-Link:\n",
    "https://github.com/tobiiu/Umweltmonitoring.git"
   ]
  },
  {
   "cell_type": "markdown",
   "id": "e5ce7746",
   "metadata": {},
   "source": [
    "# Notizen\n",
    "\n",
    "\n",
    "\n",
    "**Aufgaben**\n",
    "- Projektstruktur anlegen (Ordner für API, DB, ML, Dashboard, Docker etc.)\n",
    "- GitHub Repository einrichten und initial committen\n",
    "\n",
    "- SenseBox API\n",
    "  - SenseBox auswählen und API-Zugang testen\n",
    "  - Python-Skript zur Datenabfrage schreiben\n",
    "  - Regelmäßige Datenabfrage (z. B. mit Scheduler/cron) einbauen\n",
    "\n",
    "- Daten in Datenbank überführen\n",
    "  - PostgreSQL/TimescaleDB Setup (lokal und containerisiert)\n",
    "  - Tabellenstruktur entwerfen (Sensor-ID, Zeitstempel, Messwert etc.)\n",
    "  - ETL-Prozess schreiben (API → Datenbank)\n",
    "  - Testdaten einfügen und Abfragen schreiben\n",
    "\n",
    "- Daten analysieren\n",
    "  - Explorative Datenanalyse (Verteilungen, Missing Values, Ausreißer)\n",
    "  - Feature Engineering (z. B. Zeitmerkmale, gleitende Durchschnitte)\n",
    "  - Visualisierung (erste Diagramme mit matplotlib/seaborn)\n",
    "\n",
    "- Daten vorhersagen mit Machine Learning Model\n",
    "  - ML-Ziel wählen: Vorhersage ODER Anomalie-Erkennung\n",
    "  - Trainingsdaten vorbereiten\n",
    "  - Modell trainieren und evaluieren\n",
    "  - Modellversion speichern (z. B. mit pickle/joblib)\n",
    "  - Inferenzfunktion implementieren (Eingabe → Output)\n",
    "\n",
    "- Dashboard erstellen\n",
    "  - Dash-App Grundgerüst erstellen\n",
    "  - Layout mit Graphen, Dropdowns etc. aufbauen\n",
    "  - Live-Anzeige der Sensordaten einbauen\n",
    "\n",
    "- Daten an Dashboard weiterleiten\n",
    "  - Backend-Verbindung zur Datenbank implementieren\n",
    "  - Schnittstelle für ML-Vorhersagen einbauen\n",
    "  - Ergebnisse im Dashboard anzeigen\n",
    "\n",
    "- Dashboard live-fähig machen\n",
    "  - Docker-Container für alle Komponenten erstellen\n",
    "  - docker-compose mit Netzwerkverbindungen schreiben\n",
    "  - Healthchecks und Logging einbauen\n",
    "  - Deployment testen (lokal oder auf Plattform wie Heroku/Dokku)\n",
    "\n"
   ]
  },
  {
   "cell_type": "markdown",
   "id": "0e866da6",
   "metadata": {},
   "source": [
    "\n",
    "\n",
    "Kategorien (für Benotung):\n",
    "1. Architektur\n",
    "\n",
    "2. Machine Learning\n",
    "\n",
    "3. Benutzerfreundlicheit\n",
    "\n",
    "4. Code-Dokumentation\n",
    "\n"
   ]
  }
 ],
 "metadata": {
  "language_info": {
   "name": "python"
  }
 },
 "nbformat": 4,
 "nbformat_minor": 5
}
